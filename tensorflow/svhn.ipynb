{
  "cells": [
    {
      "cell_type": "code",
      "execution_count": null,
      "metadata": {
        "id": "fVla7siq30xJ"
      },
      "outputs": [],
      "source": [
        "import matplotlib.pyplot as plt\n",
        "import numpy as np\n",
        "import tensorflow as tf\n",
        "import tensorflow_datasets as tfds"
      ]
    },
    {
      "cell_type": "code",
      "execution_count": null,
      "metadata": {
        "colab": {
          "base_uri": "https://localhost:8080/"
        },
        "id": "HtkpgPRJ4UM1",
        "outputId": "8ad7fef2-96f1-432e-bc29-f379951cf5dc"
      },
      "outputs": [
        {
          "name": "stdout",
          "output_type": "stream",
          "text": [
            "<PrefetchDataset element_spec={'image': TensorSpec(shape=(32, 32, 3), dtype=tf.uint8, name=None), 'label': TensorSpec(shape=(), dtype=tf.int64, name=None)}>\n"
          ]
        }
      ],
      "source": [
        "ds = tfds.load(\"svhn_cropped\", split=\"train\", shuffle_files=True)\n",
        "assert isinstance(ds, tf.data.Dataset)\n",
        "print(ds)"
      ]
    },
    {
      "cell_type": "code",
      "execution_count": null,
      "metadata": {
        "colab": {
          "base_uri": "https://localhost:8080/"
        },
        "id": "8ozvMM9n6u-_",
        "outputId": "f9c73bd8-ab9a-4137-dae0-accba4bacf53"
      },
      "outputs": [
        {
          "name": "stdout",
          "output_type": "stream",
          "text": [
            "<class 'numpy.ndarray'> (26032, 32, 32, 3)\n"
          ]
        }
      ],
      "source": [
        "image, label = tfds.as_numpy(tfds.load(\n",
        "    \"svhn_cropped\",\n",
        "    split=\"test\",\n",
        "    batch_size=-1,\n",
        "    as_supervised=True,\n",
        "))\n",
        "print(type(image), image.shape)"
      ]
    },
    {
      "cell_type": "code",
      "execution_count": null,
      "metadata": {
        "id": "l9-6SOb47OuF"
      },
      "outputs": [],
      "source": [
        "# ds = ds.batch(32).prefetch(1)\n",
        "# tfds.benchmark(ds, batch_size=32)\n",
        "# tfds.benchmark(ds, batch_size=32)"
      ]
    },
    {
      "cell_type": "code",
      "execution_count": null,
      "metadata": {
        "colab": {
          "base_uri": "https://localhost:8080/",
          "height": 202
        },
        "id": "pOuCoZyQ7mXu",
        "outputId": "5d5ddceb-4842-41b1-dbb7-ccbc638e80c5"
      },
      "outputs": [
        {
          "data": {
            "text/html": [
              "\n",
              "  <div id=\"df-0660cb92-6dce-4e9a-8960-3583f6f34ee3\">\n",
              "    <div class=\"colab-df-container\">\n",
              "      <style type=\"text/css\">\n",
              "</style>\n",
              "<table id=\"T_3064f_\">\n",
              "  <thead>\n",
              "    <tr>\n",
              "      <th class=\"blank level0\" >&nbsp;</th>\n",
              "      <th class=\"col_heading level0 col0\" >image</th>\n",
              "      <th class=\"col_heading level0 col1\" >label</th>\n",
              "    </tr>\n",
              "  </thead>\n",
              "  <tbody>\n",
              "    <tr>\n",
              "      <th id=\"T_3064f_level0_row0\" class=\"row_heading level0 row0\" >0</th>\n",
              "      <td id=\"T_3064f_row0_col0\" class=\"data row0 col0\" ><img src=\"data:image/png;base64,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\" alt=\"Img\" /></td>\n",
              "      <td id=\"T_3064f_row0_col1\" class=\"data row0 col1\" >4</td>\n",
              "    </tr>\n",
              "    <tr>\n",
              "      <th id=\"T_3064f_level0_row1\" class=\"row_heading level0 row1\" >1</th>\n",
              "      <td id=\"T_3064f_row1_col0\" class=\"data row1 col0\" ><img src=\"data:image/png;base64,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\" alt=\"Img\" /></td>\n",
              "      <td id=\"T_3064f_row1_col1\" class=\"data row1 col1\" >8</td>\n",
              "    </tr>\n",
              "    <tr>\n",
              "      <th id=\"T_3064f_level0_row2\" class=\"row_heading level0 row2\" >2</th>\n",
              "      <td id=\"T_3064f_row2_col0\" class=\"data row2 col0\" ><img src=\"data:image/png;base64,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\" alt=\"Img\" /></td>\n",
              "      <td id=\"T_3064f_row2_col1\" class=\"data row2 col1\" >7</td>\n",
              "    </tr>\n",
              "    <tr>\n",
              "      <th id=\"T_3064f_level0_row3\" class=\"row_heading level0 row3\" >3</th>\n",
              "      <td id=\"T_3064f_row3_col0\" class=\"data row3 col0\" ><img src=\"data:image/png;base64,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\" alt=\"Img\" /></td>\n",
              "      <td id=\"T_3064f_row3_col1\" class=\"data row3 col1\" >2</td>\n",
              "    </tr>\n",
              "  </tbody>\n",
              "</table>\n",
              "\n",
              "      <button class=\"colab-df-convert\" onclick=\"convertToInteractive('df-0660cb92-6dce-4e9a-8960-3583f6f34ee3')\"\n",
              "              title=\"Convert this dataframe to an interactive table.\"\n",
              "              style=\"display:none;\">\n",
              "        \n",
              "  <svg xmlns=\"http://www.w3.org/2000/svg\" height=\"24px\"viewBox=\"0 0 24 24\"\n",
              "       width=\"24px\">\n",
              "    <path d=\"M0 0h24v24H0V0z\" fill=\"none\"/>\n",
              "    <path d=\"M18.56 5.44l.94 2.06.94-2.06 2.06-.94-2.06-.94-.94-2.06-.94 2.06-2.06.94zm-11 1L8.5 8.5l.94-2.06 2.06-.94-2.06-.94L8.5 2.5l-.94 2.06-2.06.94zm10 10l.94 2.06.94-2.06 2.06-.94-2.06-.94-.94-2.06-.94 2.06-2.06.94z\"/><path d=\"M17.41 7.96l-1.37-1.37c-.4-.4-.92-.59-1.43-.59-.52 0-1.04.2-1.43.59L10.3 9.45l-7.72 7.72c-.78.78-.78 2.05 0 2.83L4 21.41c.39.39.9.59 1.41.59.51 0 1.02-.2 1.41-.59l7.78-7.78 2.81-2.81c.8-.78.8-2.07 0-2.86zM5.41 20L4 18.59l7.72-7.72 1.47 1.35L5.41 20z\"/>\n",
              "  </svg>\n",
              "      </button>\n",
              "      \n",
              "  <style>\n",
              "    .colab-df-container {\n",
              "      display:flex;\n",
              "      flex-wrap:wrap;\n",
              "      gap: 12px;\n",
              "    }\n",
              "\n",
              "    .colab-df-convert {\n",
              "      background-color: #E8F0FE;\n",
              "      border: none;\n",
              "      border-radius: 50%;\n",
              "      cursor: pointer;\n",
              "      display: none;\n",
              "      fill: #1967D2;\n",
              "      height: 32px;\n",
              "      padding: 0 0 0 0;\n",
              "      width: 32px;\n",
              "    }\n",
              "\n",
              "    .colab-df-convert:hover {\n",
              "      background-color: #E2EBFA;\n",
              "      box-shadow: 0px 1px 2px rgba(60, 64, 67, 0.3), 0px 1px 3px 1px rgba(60, 64, 67, 0.15);\n",
              "      fill: #174EA6;\n",
              "    }\n",
              "\n",
              "    [theme=dark] .colab-df-convert {\n",
              "      background-color: #3B4455;\n",
              "      fill: #D2E3FC;\n",
              "    }\n",
              "\n",
              "    [theme=dark] .colab-df-convert:hover {\n",
              "      background-color: #434B5C;\n",
              "      box-shadow: 0px 1px 3px 1px rgba(0, 0, 0, 0.15);\n",
              "      filter: drop-shadow(0px 1px 2px rgba(0, 0, 0, 0.3));\n",
              "      fill: #FFFFFF;\n",
              "    }\n",
              "  </style>\n",
              "\n",
              "      <script>\n",
              "        const buttonEl =\n",
              "          document.querySelector('#df-0660cb92-6dce-4e9a-8960-3583f6f34ee3 button.colab-df-convert');\n",
              "        buttonEl.style.display =\n",
              "          google.colab.kernel.accessAllowed ? 'block' : 'none';\n",
              "\n",
              "        async function convertToInteractive(key) {\n",
              "          const element = document.querySelector('#df-0660cb92-6dce-4e9a-8960-3583f6f34ee3');\n",
              "          const dataTable =\n",
              "            await google.colab.kernel.invokeFunction('convertToInteractive',\n",
              "                                                     [key], {});\n",
              "          if (!dataTable) return;\n",
              "\n",
              "          const docLinkHtml = 'Like what you see? Visit the ' +\n",
              "            '<a target=\"_blank\" href=https://colab.research.google.com/notebooks/data_table.ipynb>data table notebook</a>'\n",
              "            + ' to learn more about interactive tables.';\n",
              "          element.innerHTML = '';\n",
              "          dataTable['output_type'] = 'display_data';\n",
              "          await google.colab.output.renderOutput(dataTable, element);\n",
              "          const docLink = document.createElement('div');\n",
              "          docLink.innerHTML = docLinkHtml;\n",
              "          element.appendChild(docLink);\n",
              "        }\n",
              "      </script>\n",
              "    </div>\n",
              "  </div>\n",
              "  "
            ],
            "text/plain": [
              "                                               image  label\n",
              "0  [[[126, 138, 136], [128, 138, 137], [129, 139,...      4\n",
              "1  [[[78, 86, 105], [80, 87, 107], [78, 85, 106],...      8\n",
              "2  [[[66, 65, 65], [72, 73, 72], [76, 77, 77], [8...      7\n",
              "3  [[[85, 83, 96], [68, 66, 80], [58, 56, 75], [5...      2"
            ]
          },
          "execution_count": 6,
          "metadata": {},
          "output_type": "execute_result"
        }
      ],
      "source": [
        "ds, info = tfds.load(\"svhn_cropped\", split=\"train\", with_info=True)\n",
        "tfds.as_dataframe(ds.take(4), info)"
      ]
    },
    {
      "cell_type": "code",
      "execution_count": null,
      "metadata": {
        "colab": {
          "base_uri": "https://localhost:8080/",
          "height": 534
        },
        "id": "lUsdFpHV74b9",
        "outputId": "86430c48-0768-420c-b8f7-e05ddea15813"
      },
      "outputs": [
        {
          "data": {
            "image/png": "[encoded data removed]",
            "text/plain": [
              "<Figure size 648x648 with 9 Axes>"
            ]
          },
          "metadata": {},
          "output_type": "display_data"
        }
      ],
      "source": [
        "fig = tfds.show_examples(ds, info)"
      ]
    },
    {
      "cell_type": "code",
      "execution_count": null,
      "metadata": {
        "id": "T77E8pAo8JuK"
      },
      "outputs": [],
      "source": [
        "train_ds, train_labels = tfds.as_numpy(tfds.load(\n",
        "    \"svhn_cropped\",\n",
        "    split=\"train\",\n",
        "    batch_size=-1,\n",
        "    as_supervised=True,\n",
        "))\n",
        "val_ds, val_labels = tfds.as_numpy(tfds.load(\n",
        "    \"svhn_cropped\",\n",
        "    split=\"test\",\n",
        "    batch_size=-1,\n",
        "    as_supervised=True,\n",
        "))"
      ]
    },
    {
      "cell_type": "code",
      "execution_count": null,
      "metadata": {
        "id": "bd5V5nHW811P"
      },
      "outputs": [],
      "source": [
        "train_ds = train_ds / 255.0\n",
        "val_ds = val_ds / 255.0"
      ]
    },
    {
      "cell_type": "code",
      "execution_count": null,
      "metadata": {
        "id": "tnSXPG9I9YVx"
      },
      "outputs": [],
      "source": [
        "model = tf.keras.Sequential([\n",
        "    tf.keras.layers.Conv2D(16, (3,3), activation='relu', input_shape=(32,32,3)),\n",
        "    tf.keras.layers.MaxPooling2D(2, 2),\n",
        "    tf.keras.layers.Conv2D(32, (3,3), padding='same', activation='relu'),\n",
        "    tf.keras.layers.MaxPooling2D(2, 2),\n",
        "    tf.keras.layers.Conv2D(64, (3,3), padding='same', activation='relu'),\n",
        "    tf.keras.layers.MaxPooling2D(2, 2),\n",
        "    tf.keras.layers.Flatten(),\n",
        "    # tf.keras.layers.Dropout(0.5),\n",
        "    tf.keras.layers.Dense(128, activation='relu'),\n",
        "    tf.keras.layers.Dense(10, activation='softmax')\n",
        "])"
      ]
    },
    {
      "cell_type": "code",
      "execution_count": null,
      "metadata": {
        "id": "WPlfbNAS9c0y"
      },
      "outputs": [],
      "source": [
        "model.compile(\n",
        "    optimizer='adam',\n",
        "    loss=tf.keras.losses.SparseCategoricalCrossentropy(from_logits=True),\n",
        "    metrics=['accuracy']\n",
        ")"
      ]
    },
    {
      "cell_type": "code",
      "execution_count": null,
      "metadata": {
        "colab": {
          "base_uri": "https://localhost:8080/"
        },
        "id": "UcztbjgEFvYG",
        "outputId": "6679ad6e-a05c-4af3-dd46-77256778753a"
      },
      "outputs": [
        {
          "name": "stdout",
          "output_type": "stream",
          "text": [
            "Epoch 1/10\n"
          ]
        },
        {
          "name": "stderr",
          "output_type": "stream",
          "text": [
            "/usr/local/lib/python3.7/dist-packages/tensorflow/python/util/dispatch.py:1082: UserWarning: \"`sparse_categorical_crossentropy` received `from_logits=True`, but the `output` argument was produced by a sigmoid or softmax activation and thus does not represent logits. Was this intended?\"\n",
            "  return dispatch_target(*args, **kwargs)\n"
          ]
        },
        {
          "name": "stdout",
          "output_type": "stream",
          "text": [
            "2290/2290 [==============================] - 83s 36ms/step - loss: 0.9221 - accuracy: 0.7070\n",
            "Epoch 2/10\n",
            "2290/2290 [==============================] - 83s 36ms/step - loss: 0.4720 - accuracy: 0.8625\n",
            "Epoch 3/10\n",
            "2290/2290 [==============================] - 84s 37ms/step - loss: 0.3874 - accuracy: 0.8862\n",
            "Epoch 4/10\n",
            "2290/2290 [==============================] - 82s 36ms/step - loss: 0.3404 - accuracy: 0.8988\n",
            "Epoch 5/10\n",
            "2290/2290 [==============================] - 84s 37ms/step - loss: 0.3067 - accuracy: 0.9102\n",
            "Epoch 6/10\n",
            "2290/2290 [==============================] - 82s 36ms/step - loss: 0.2809 - accuracy: 0.9162\n",
            "Epoch 7/10\n",
            "2290/2290 [==============================] - 83s 36ms/step - loss: 0.2570 - accuracy: 0.9235\n",
            "Epoch 8/10\n",
            "2290/2290 [==============================] - 83s 36ms/step - loss: 0.2383 - accuracy: 0.9285\n",
            "Epoch 9/10\n",
            "2290/2290 [==============================] - 82s 36ms/step - loss: 0.2212 - accuracy: 0.9341\n",
            "Epoch 10/10\n",
            "2290/2290 [==============================] - 83s 36ms/step - loss: 0.2067 - accuracy: 0.9376\n"
          ]
        }
      ],
      "source": [
        "history = model.fit(\n",
        "    train_ds,\n",
        "    train_labels,\n",
        "    epochs=10\n",
        ")"
      ]
    },
    {
      "cell_type": "code",
      "execution_count": null,
      "metadata": {
        "colab": {
          "base_uri": "https://localhost:8080/"
        },
        "id": "NuYYllU0MR59",
        "outputId": "67e4d6b6-29c2-4056-cbac-740710b308b8"
      },
      "outputs": [
        {
          "name": "stdout",
          "output_type": "stream",
          "text": [
            "814/814 [==============================] - 10s 12ms/step\n"
          ]
        }
      ],
      "source": [
        "probability_model = tf.keras.Sequential([model, tf.keras.layers.Softmax()])\n",
        "predictions = probability_model.predict(val_ds)"
      ]
    },
    {
      "cell_type": "code",
      "execution_count": null,
      "metadata": {
        "colab": {
          "base_uri": "https://localhost:8080/"
        },
        "id": "w6NXMRACMV3a",
        "outputId": "79e65a9a-df87-4baa-a1aa-d77dee158211"
      },
      "outputs": [
        {
          "name": "stdout",
          "output_type": "stream",
          "text": [
            "-------------\n",
            "0:[0.08565564 0.08699661 0.22759429 0.08579618 0.08561856 0.08561089\n",
            " 0.08561056 0.08589433 0.08561154 0.08561137]\n",
            "2\n",
            "-------------\n",
            "1:[0.08533676 0.08533676 0.08533683 0.08533676 0.08533677 0.08533676\n",
            " 0.08533676 0.23196909 0.08533676 0.08533676]\n",
            "7\n",
            "-------------\n",
            "2:[0.08533723 0.08533722 0.23196284 0.08533828 0.085338   0.08533725\n",
            " 0.08533723 0.08533723 0.08533739 0.08533723]\n",
            "2\n",
            "-------------\n",
            "3:[0.08533674 0.08533675 0.08533677 0.08533674 0.23196909 0.08533677\n",
            " 0.08533676 0.08533674 0.08533675 0.08533674]\n",
            "4\n",
            "-------------\n",
            "4:[0.08552071 0.08666709 0.0855209  0.08561181 0.22907893 0.08551998\n",
            " 0.08551798 0.08552245 0.08551823 0.08552182]\n",
            "4\n",
            "-------------\n",
            "5:[0.08620382 0.08643267 0.2177282  0.08898472 0.0863142  0.08620992\n",
            " 0.08620621 0.08949804 0.08621449 0.0862077 ]\n",
            "2\n",
            "-------------\n",
            "6:[0.08533674 0.08533674 0.08533674 0.08533674 0.08533674 0.08533674\n",
            " 0.23196931 0.08533674 0.08533674 0.08533674]\n",
            "6\n",
            "-------------\n",
            "7:[0.08579694 0.08572153 0.22647151 0.08579887 0.08578183 0.08568776\n",
            " 0.08569171 0.08574798 0.08758658 0.08571516]\n",
            "2\n",
            "-------------\n",
            "8:[0.08582088 0.08691057 0.08640557 0.22434045 0.08586663 0.08660933\n",
            " 0.08581956 0.0865513  0.08581422 0.0858615 ]\n",
            "3\n"
          ]
        }
      ],
      "source": [
        "for i in range(9):\n",
        "    print(\"-------------\")\n",
        "    print(f\"{i}:{predictions[i]}\")\n",
        "    print(np.argmax(predictions[i]))"
      ]
    },
    {
      "cell_type": "code",
      "execution_count": null,
      "metadata": {
        "colab": {
          "base_uri": "https://localhost:8080/"
        },
        "id": "bPOAd55IOAls",
        "outputId": "0b14b60a-df67-4b0b-b6dd-46465027c972"
      },
      "outputs": [
        {
          "name": "stdout",
          "output_type": "stream",
          "text": [
            "2\n",
            "7\n",
            "2\n",
            "4\n",
            "4\n",
            "2\n",
            "6\n",
            "2\n",
            "3\n"
          ]
        }
      ],
      "source": [
        "for i in range(9):\n",
        "  print(val_labels[i])"
      ]
    },
    {
      "cell_type": "code",
      "execution_count": null,
      "metadata": {
        "colab": {
          "base_uri": "https://localhost:8080/",
          "height": 277
        },
        "id": "xL0A1O-32T7z",
        "outputId": "0cf56c67-6797-44b9-be40-5e01b007861e"
      },
      "outputs": [
        {
          "name": "stdout",
          "output_type": "stream",
          "text": [
            "  adding: saved_model/ (stored 0%)\n",
            "  adding: saved_model/svhn_v2/ (stored 0%)\n",
            "  adding: saved_model/svhn_v2/variables/ (stored 0%)\n",
            "  adding: saved_model/svhn_v2/variables/variables.index (deflated 66%)\n",
            "  adding: saved_model/svhn_v2/variables/variables.data-00000-of-00001 (deflated 10%)\n",
            "  adding: saved_model/svhn_v2/saved_model.pb (deflated 89%)\n",
            "  adding: saved_model/svhn_v2/keras_metadata.pb (deflated 91%)\n",
            "  adding: saved_model/svhn_v2/assets/ (stored 0%)\n",
            "  adding: saved_model/svhn_v1/ (stored 0%)\n",
            "  adding: saved_model/svhn_v1/variables/ (stored 0%)\n",
            "  adding: saved_model/svhn_v1/variables/variables.index (deflated 62%)\n",
            "  adding: saved_model/svhn_v1/variables/variables.data-00000-of-00001 (deflated 13%)\n",
            "  adding: saved_model/svhn_v1/saved_model.pb (deflated 88%)\n",
            "  adding: saved_model/svhn_v1/keras_metadata.pb (deflated 88%)\n",
            "  adding: saved_model/svhn_v1/assets/ (stored 0%)\n"
          ]
        },
        {
          "data": {
            "application/javascript": "\n    async function download(id, filename, size) {\n      if (!google.colab.kernel.accessAllowed) {\n        return;\n      }\n      const div = document.createElement('div');\n      const label = document.createElement('label');\n      label.textContent = `Downloading \"${filename}\": `;\n      div.appendChild(label);\n      const progress = document.createElement('progress');\n      progress.max = size;\n      div.appendChild(progress);\n      document.body.appendChild(div);\n\n      const buffers = [];\n      let downloaded = 0;\n\n      const channel = await google.colab.kernel.comms.open(id);\n      // Send a message to notify the kernel that we're ready.\n      channel.send({})\n\n      for await (const message of channel.messages) {\n        // Send a message to notify the kernel that we're ready.\n        channel.send({})\n        if (message.buffers) {\n          for (const buffer of message.buffers) {\n            buffers.push(buffer);\n            downloaded += buffer.byteLength;\n            progress.value = downloaded;\n          }\n        }\n      }\n      const blob = new Blob(buffers, {type: 'application/binary'});\n      const a = document.createElement('a');\n      a.href = window.URL.createObjectURL(blob);\n      a.download = filename;\n      div.appendChild(a);\n      a.click();\n      div.remove();\n    }\n  ",
            "text/plain": [
              "<IPython.core.display.Javascript object>"
            ]
          },
          "metadata": {},
          "output_type": "display_data"
        },
        {
          "data": {
            "application/javascript": "download(\"download_c44d3cee-5253-4d43-bbf5-2a8b1570f12a\", \"models.zip\", 20338508)",
            "text/plain": [
              "<IPython.core.display.Javascript object>"
            ]
          },
          "metadata": {},
          "output_type": "display_data"
        }
      ],
      "source": [
        "# !zip -r models.zip saved_model\n",
        "# from google.colab import files\n",
        "# files.download(\"models.zip\")"
      ]
    }
  ],
  "metadata": {
    "colab": {
      "collapsed_sections": [],
      "provenance": []
    },
    "kernelspec": {
      "display_name": "Python 3.10.8 64-bit",
      "language": "python",
      "name": "python3"
    },
    "language_info": {
      "name": "python",
      "version": "3.10.8"
    },
    "vscode": {
      "interpreter": {
        "hash": "aee8b7b246df8f9039afb4144a1f6fd8d2ca17a180786b69acc140d282b71a49"
      }
    }
  },
  "nbformat": 4,
  "nbformat_minor": 0
}
